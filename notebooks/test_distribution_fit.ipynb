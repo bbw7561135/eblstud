{
 "metadata": {
  "name": "",
  "signature": "sha256:6b21f8da467ffdafc6cc5da406204ec414d2aff013a57dfc8c744cbd157c6251"
 },
 "nbformat": 3,
 "nbformat_minor": 0,
 "worksheets": [
  {
   "cells": [
    {
     "cell_type": "code",
     "collapsed": false,
     "input": [
      "%load_ext autoreload \n",
      "%autoreload 2\n",
      "%matplotlib inline"
     ],
     "language": "python",
     "metadata": {},
     "outputs": [],
     "prompt_number": 3
    },
    {
     "cell_type": "code",
     "collapsed": false,
     "input": [
      "from eblstud.tools.fit_distribution import FitDistribution as fd\n",
      "import numpy as np\n",
      "import matplotlib.pyplot as plt\n",
      "import iminuit\n",
      "from scipy.stats import chi2"
     ],
     "language": "python",
     "metadata": {},
     "outputs": [],
     "prompt_number": 4
    },
    {
     "cell_type": "code",
     "collapsed": false,
     "input": [
      "dof = []\n",
      "df = 10.21\n",
      "fit = fd()\n",
      "for i in range(1000):\n",
      "    data = chi2.rvs(df, size = 1000)\n",
      "    D, d, dd = fit.fit_dist( data, pinit = {'df' :  np.mean(data)})\n",
      "    dof.append(d['df'])\n",
      "dof = np.array(dof)\n",
      "print np.mean(data)"
     ],
     "language": "python",
     "metadata": {},
     "outputs": [
      {
       "output_type": "stream",
       "stream": "stdout",
       "text": [
        "10.2238930553\n"
       ]
      }
     ],
     "prompt_number": 5
    },
    {
     "cell_type": "code",
     "collapsed": false,
     "input": [
      "n, bins, patches = plt.hist(dof, bins = 30)\n",
      "plt.axvline(df, ls = '--', color = 'red', lw = 2.)\n",
      "plt.xlabel('d.o.f.')"
     ],
     "language": "python",
     "metadata": {},
     "outputs": [
      {
       "metadata": {},
       "output_type": "pyout",
       "prompt_number": 6,
       "text": [
        "<matplotlib.text.Text at 0x106d35450>"
       ]
      },
      {
       "metadata": {},
       "output_type": "display_data",
       "png": "[encoded data removed]",
       "text": [
        "<matplotlib.figure.Figure at 0x106d1a390>"
       ]
      }
     ],
     "prompt_number": 6
    },
    {
     "cell_type": "code",
     "collapsed": false,
     "input": [],
     "language": "python",
     "metadata": {},
     "outputs": []
    }
   ],
   "metadata": {}
  }
 ]
}