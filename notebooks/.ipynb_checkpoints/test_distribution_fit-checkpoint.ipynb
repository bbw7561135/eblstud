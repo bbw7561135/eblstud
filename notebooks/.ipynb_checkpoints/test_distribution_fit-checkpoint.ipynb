{
 "metadata": {
  "name": "",
  "signature": "sha256:64b22b46de655e07ae1dcd37d1faa66f910f6d083030e1bb70e4c9fb16ca981f"
 },
 "nbformat": 3,
 "nbformat_minor": 0,
 "worksheets": [
  {
   "cells": [
    {
     "cell_type": "code",
     "collapsed": false,
     "input": [
      "%load_ext autoreload \n",
      "%autoreload 2\n",
      "%matplotlib inline"
     ],
     "language": "python",
     "metadata": {},
     "outputs": [
      {
       "output_type": "stream",
       "stream": "stdout",
       "text": [
        "The autoreload extension is already loaded. To reload it, use:\n",
        "  %reload_ext autoreload\n"
       ]
      }
     ],
     "prompt_number": 76
    },
    {
     "cell_type": "code",
     "collapsed": false,
     "input": [
      "from eblstud.tools.fit_distribution import FitDistribution as fd\n",
      "import numpy as np\n",
      "import matplotlib.pyplot as plt\n",
      "import iminuit\n",
      "from scipy.stats import chi2"
     ],
     "language": "python",
     "metadata": {},
     "outputs": [],
     "prompt_number": 77
    },
    {
     "cell_type": "code",
     "collapsed": false,
     "input": [
      "dof = []\n",
      "df = 10.21\n",
      "fit = fd()\n",
      "for i in range(1000):\n",
      "    D, d, dd = fit.fit_dist(chi2.rvs(df, size = 1000))\n",
      "    dof.append(d['df'])\n",
      "dof = np.array(dof)"
     ],
     "language": "python",
     "metadata": {},
     "outputs": [],
     "prompt_number": 114
    },
    {
     "cell_type": "code",
     "collapsed": false,
     "input": [
      "n, bins, patches = plt.hist(dof, bins = 30)\n",
      "plt.axvline(df, ls = '--', color = 'red', lw = 2.)\n",
      "plt.xlabel('d.o.f.')"
     ],
     "language": "python",
     "metadata": {},
     "outputs": [
      {
       "metadata": {},
       "output_type": "pyout",
       "prompt_number": 115,
       "text": [
        "<matplotlib.text.Text at 0x108013550>"
       ]
      },
      {
       "metadata": {},
       "output_type": "display_data",
       "png": "[encoded data removed]",
       "text": [
        "<matplotlib.figure.Figure at 0x106f6c290>"
       ]
      }
     ],
     "prompt_number": 115
    },
    {
     "cell_type": "code",
     "collapsed": false,
     "input": [],
     "language": "python",
     "metadata": {},
     "outputs": []
    }
   ],
   "metadata": {}
  }
 ]
}