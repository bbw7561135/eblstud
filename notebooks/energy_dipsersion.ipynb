{
 "metadata": {
  "name": "",
  "signature": "sha256:233ab13cbf72a99a06a72dd80905111c835eb58201c34afa0ca44ccdd48e0995"
 },
 "nbformat": 3,
 "nbformat_minor": 0,
 "worksheets": [
  {
   "cells": [
    {
     "cell_type": "markdown",
     "metadata": {},
     "source": [
      "Some ipython imports:"
     ]
    },
    {
     "cell_type": "code",
     "collapsed": false,
     "input": [
      "%load_ext autoreload\n",
      "%matplotlib inline"
     ],
     "language": "python",
     "metadata": {},
     "outputs": [],
     "prompt_number": 3
    },
    {
     "cell_type": "markdown",
     "metadata": {},
     "source": [
      "Importing the modules / functions:"
     ]
    },
    {
     "cell_type": "code",
     "collapsed": false,
     "input": [
      "from eblstud.tools.simulate_spec import edisp_Egauss\n",
      "from scipy.integrate import simps\n",
      "import numpy as np\n",
      "import matplotlib.pyplot as plt"
     ],
     "language": "python",
     "metadata": {},
     "outputs": [],
     "prompt_number": 2
    },
    {
     "cell_type": "markdown",
     "metadata": {},
     "source": [
      "Defining a function that results in strong oscillations:"
     ]
    },
    {
     "cell_type": "code",
     "collapsed": false,
     "input": [
      "func = lambda x: 0.5 * np.sin(1e-1 / x ** 2.)**2. * x ** 2."
     ],
     "language": "python",
     "metadata": {},
     "outputs": [],
     "prompt_number": 69
    },
    {
     "cell_type": "markdown",
     "metadata": {},
     "source": [
      "Defining the arrays of true and reconstructed energy. To avoid edge effects, choose Ereco within a smaller range than Etrue:"
     ]
    },
    {
     "cell_type": "code",
     "collapsed": false,
     "input": [
      "Etrue = np.logspace(-2,1,1000)\n",
      "Ereco = np.logspace(-1.9,0.9,600)"
     ],
     "language": "python",
     "metadata": {},
     "outputs": [],
     "prompt_number": 90
    },
    {
     "cell_type": "markdown",
     "metadata": {},
     "source": [
      "The energy dispersion function:"
     ]
    },
    {
     "cell_type": "code",
     "collapsed": false,
     "input": [
      "edisp = edisp_Egauss(Etrue, Ereco, sE = 0.1)\n",
      "print edisp.T.shape"
     ],
     "language": "python",
     "metadata": {},
     "outputs": [
      {
       "output_type": "stream",
       "stream": "stdout",
       "text": [
        "(600, 1000)\n"
       ]
      }
     ],
     "prompt_number": 97
    },
    {
     "cell_type": "markdown",
     "metadata": {},
     "source": [
      "Folding (convolving) the energy dispersion with the function:"
     ]
    },
    {
     "cell_type": "code",
     "collapsed": false,
     "input": [
      "func_Ereco = simps(func(Etrue) * edisp.T * Etrue, np.log(Etrue), axis = 1)"
     ],
     "language": "python",
     "metadata": {},
     "outputs": [],
     "prompt_number": 93
    },
    {
     "cell_type": "markdown",
     "metadata": {},
     "source": [
      "Plotting the output:"
     ]
    },
    {
     "cell_type": "code",
     "collapsed": false,
     "input": [
      "plt.figure()\n",
      "ax = plt.subplot(111)\n",
      "ax.set_xscale('log')\n",
      "ax.set_yscale('log')\n",
      "\n",
      "plt.plot(Etrue, func(Etrue), color = '0.', ls = '-', lw = 1.5, label = 'original function')\n",
      "plt.plot(Ereco, func_Ereco, color = 'red', ls = '--', lw = 2, label = 'smeared function')\n",
      "plt.legend(loc = 0)\n",
      "plt.show()"
     ],
     "language": "python",
     "metadata": {},
     "outputs": [
      {
       "metadata": {},
       "output_type": "display_data",
       "png": "[encoded data removed]",
       "text": [
        "<matplotlib.figure.Figure at 0x10bba3890>"
       ]
      }
     ],
     "prompt_number": 95
    }
   ],
   "metadata": {}
  }
 ]
}